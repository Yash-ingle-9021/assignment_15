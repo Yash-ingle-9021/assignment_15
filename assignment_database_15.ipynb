{
 "cells": [
  {
   "cell_type": "code",
   "execution_count": 2,
   "metadata": {},
   "outputs": [
    {
     "name": "stdout",
     "output_type": "stream",
     "text": [
      "* ASSIGNMENT_15 *\n"
     ]
    }
   ],
   "source": [
    "print(\"* ASSIGNMENT_15 *\")"
   ]
  },
  {
   "cell_type": "code",
   "execution_count": 1,
   "metadata": {},
   "outputs": [
    {
     "name": "stdout",
     "output_type": "stream",
     "text": [
      "Q_1_ANS :- Database :- A database is a collection of data that is organized, which is also called structured data. It can be accessed or stored in a computer system. It can be managed through a Database Management System (DBMS), a software used to manage data. Database refers to related data in a structured form.\n",
      "Difference between SQL and NoSQL :-\n",
      "SQL databases are primarily called as Relational Databases Management System (RDBMS):-\n",
      "SQL databases defines and manipulates data based structured query language (SQL). Seeing from a side this language is extremely powerful. SQL is one of the most versatile and widely-used options available which makes it a safe choice especially for great complex queries. But from other side it can be restrictive. SQL requires you to use predefined schemas to determine the structure of your data before you work with it. Also all of your data must follow the same structure. This can require significant up-front preparation which means that a change in the structure would be both difficult and disruptive to your whole system.\n",
      "NoSQL database are primarily called as Non-Relational Database Management System (Non-RDBMS) or distributed database :-\n",
      "A NoSQL database has dynamic schema for unstructured data. Data is stored in many ways which means it can be document-oriented, column-oriented, graph-based or organized as a KeyValue store. This flexibility means that documents can be created without having defined structure first. Also each document can have its own unique structure. The syntax varies from database to database, and you can add fields as you go.\n"
     ]
    }
   ],
   "source": [
    "print('Q_1_ANS :- Database :- A database is a collection of data that is organized, which is also called structured data. It can be accessed or stored in a computer system. It can be managed through a Database Management System (DBMS), a software used to manage data. Database refers to related data in a structured form.\\nDifference between SQL and NoSQL :-\\nSQL databases are primarily called as Relational Databases Management System (RDBMS):-\\nSQL databases defines and manipulates data based structured query language (SQL). Seeing from a side this language is extremely powerful. SQL is one of the most versatile and widely-used options available which makes it a safe choice especially for great complex queries. But from other side it can be restrictive. SQL requires you to use predefined schemas to determine the structure of your data before you work with it. Also all of your data must follow the same structure. This can require significant up-front preparation which means that a change in the structure would be both difficult and disruptive to your whole system.\\nNoSQL database are primarily called as Non-Relational Database Management System (Non-RDBMS) or distributed database :-\\nA NoSQL database has dynamic schema for unstructured data. Data is stored in many ways which means it can be document-oriented, column-oriented, graph-based or organized as a KeyValue store. This flexibility means that documents can be created without having defined structure first. Also each document can have its own unique structure. The syntax varies from database to database, and you can add fields as you go.')"
   ]
  },
  {
   "cell_type": "code",
   "execution_count": 2,
   "metadata": {},
   "outputs": [
    {
     "name": "stdout",
     "output_type": "stream",
     "text": [
      "Q_2_ANS :- DDL :- Data Definition Language it is used to create database ,table in database and drop database , drop table and alter table and truncate table in SQL\n",
      "CREATE:- Create comand is used to create data base and table.\n",
      "ALTER :- Alter command is used to alter record in table means modify record in table.\n",
      "DROP :- Drop command is used to delete database and table\n",
      "TRUNCATE :- Truncate command is used to delete table in database.\n",
      "EX :- CREATE\n",
      "EX :- ALTER\n",
      "EX :- DROP\n",
      "EX :- TRUNCATE\n"
     ]
    }
   ],
   "source": [
    "print('Q_2_ANS :- DDL :- Data Definition Language it is used to create database ,table in database and drop database , drop table and alter table and truncate table in SQL\\nCREATE:- Create comand is used to create data base and table.\\nALTER :- Alter command is used to alter record in table means modify record in table.\\nDROP :- Drop command is used to delete database and table\\nTRUNCATE :- Truncate command is used to delete table in database.')\n",
    "print(\"EX :- CREATE\")\n",
    "CREATE TABLE Persons (\n",
    "    PersonID int,\n",
    "    LastName varchar(255),\n",
    "    FirstName varchar(255),\n",
    "    Address varchar(255),\n",
    "    City varchar(255)\n",
    ");\n",
    "\n",
    "print(\"EX :- ALTER\")\n",
    "ALTER TABLE Customers\n",
    "ADD Email varchar(255);\n",
    "\n",
    "print(\"EX :- DROP\")\n",
    "DROP DATABASE testDB;\n",
    "\n",
    "print(\"EX :- TRUNCATE\")\n",
    "TRUNCATE TABLE Categories;"
   ]
  },
  {
   "cell_type": "code",
   "execution_count": 1,
   "metadata": {},
   "outputs": [
    {
     "name": "stdout",
     "output_type": "stream",
     "text": [
      "Q_3_ANS :- DML :- Data Manupulation Language :- this language is used to modify record in table in data base using INSERT , DELETE , UPDATE keyword\n",
      "INSERT :- Insert is used to add record in table in database.\n",
      "DELETE :- Delete is used to delete record in table in database.\n",
      "UPDATE:-UPDATE is used to delete record in table in database. \n",
      "EX :- INSERT\n",
      "EX :- DELETE\n",
      "EX :- UPDATE\n"
     ]
    }
   ],
   "source": [
    "print('Q_3_ANS :- DML :- Data Manupulation Language :- this language is used to modify record in table in data base using INSERT , DELETE , UPDATE keyword\\nINSERT :- Insert is used to add record in table in database.\\nDELETE :- Delete is used to delete record in table in database.\\nUPDATE:-UPDATE is used to delete record in table in database. ')\n",
    "print(\"EX :- INSERT\")\n",
    "INSERT INTO students ('stu_id' int, 'stu_name' varchar(20), 'city' varchar(20))\n",
    "\n",
    "VALUES ('1', 'Nirmit', 'Gorakhpur'); \n",
    "\n",
    "print(\"EX :- DELETE\")\n",
    "DELETE FROM students\n",
    "\n",
    "WHERE stu_id = '001';\n",
    "\n",
    "print(\"EX :- UPDATE\")\n",
    "UPDATE students\n",
    "\n",
    "SET due_fees = 20000\n",
    "\n",
    "WHERE stu_name = 'Mini'; "
   ]
  },
  {
   "cell_type": "code",
   "execution_count": 2,
   "metadata": {},
   "outputs": [
    {
     "name": "stdout",
     "output_type": "stream",
     "text": [
      "Q_4_ANS :- DQL :- Data Query Language :- DQL statements are used for performing queries on the data within schema objects. The purpose of the DQL Command is to get some schema relation based on the query passed to it. We can define DQL as follows it is a component of SQL statement that allows getting data from the database and imposing order upon it. It includes the SELECT statement. This command allows getting the data out of the database to perform operations with it. When a SELECT is fired against a table or tables the result is compiled into a further temporary table, which is displayed or perhaps received by the program i.e. a front-end.\n",
      "SELECT: It is used to retrieve data from the database.\n",
      "EX :- SELECT\n"
     ]
    }
   ],
   "source": [
    "print('Q_4_ANS :- DQL :- Data Query Language :- DQL statements are used for performing queries on the data within schema objects. The purpose of the DQL Command is to get some schema relation based on the query passed to it. We can define DQL as follows it is a component of SQL statement that allows getting data from the database and imposing order upon it. It includes the SELECT statement. This command allows getting the data out of the database to perform operations with it. When a SELECT is fired against a table or tables the result is compiled into a further temporary table, which is displayed or perhaps received by the program i.e. a front-end.\\nSELECT: It is used to retrieve data from the database.')\n",
    "print(\"EX :- SELECT\")\n",
    "# ----> this query show table in database\n",
    "# SELECT * FROM table_name;\n",
    "\n",
    "# ----> this query show only column1 , column2 in table \n",
    "# SELECT column1, column2 \n",
    "# FROM table_name;\n"
   ]
  },
  {
   "cell_type": "code",
   "execution_count": 3,
   "metadata": {},
   "outputs": [
    {
     "name": "stdout",
     "output_type": "stream",
     "text": [
      "Q_5_ANS :-Primary Key :- A primary key is used to ensure that data in the specific column is unique. A column cannot have NULL values. It is either an existing table column or a column that is specifically generated by the database according to a defined sequence. \n",
      " Foreign Key :- A foreign key is a column or group of columns in a relational database table that provides a link between data in two tables. It is a column (or columns) that references a column (most often the primary key) of another table.  \n"
     ]
    }
   ],
   "source": [
    "print('Q_5_ANS :-Primary Key :- A primary key is used to ensure that data in the specific column is unique. A column cannot have NULL values. It is either an existing table column or a column that is specifically generated by the database according to a defined sequence. \\n Foreign Key :- A foreign key is a column or group of columns in a relational database table that provides a link between data in two tables. It is a column (or columns) that references a column (most often the primary key) of another table.  ')"
   ]
  },
  {
   "cell_type": "code",
   "execution_count": 7,
   "metadata": {},
   "outputs": [
    {
     "name": "stdout",
     "output_type": "stream",
     "text": [
      "Q_6_ANS :- CURSOR ():- Cursor is a Temporary Memory or Temporary Work Station. It is Allocated by Database Server at the Time of Performing DML(Data Manipulation Language) operations on Table by User. Cursors are used to store Database Tables. There are 2 types of Cursors: Implicit Cursors, and Explicit Cursors. These are explained as following below.\n",
      "1. Implicit Cursors:\n",
      "Implicit Cursors are also known as Default Cursors of SQL SERVER. These Cursors are allocated by SQL SERVER when the user performs DML operations.\n",
      "2. Explicit Cursors :\n",
      "Explicit Cursors are Created by Users whenever the user requires them. Explicit Cursors are used for Fetching data from Table in Row-By-Row Manner\n",
      "EXECUTE ():- The Execute method executes a specified query, SQL statement, stored procedure, or provider-specific text. The results are stored in a new Recordset object if it is a row-returning query. A closed Recordset object will be returned if it is not a row-returning query.\n",
      "python code to connect MySQL TO python :-\n"
     ]
    }
   ],
   "source": [
    "print('Q_6_ANS :- CURSOR ():- Cursor is a Temporary Memory or Temporary Work Station. It is Allocated by Database Server at the Time of Performing DML(Data Manipulation Language) operations on Table by User. Cursors are used to store Database Tables. There are 2 types of Cursors: Implicit Cursors, and Explicit Cursors. These are explained as following below.\\n1. Implicit Cursors:\\nImplicit Cursors are also known as Default Cursors of SQL SERVER. These Cursors are allocated by SQL SERVER when the user performs DML operations.\\n2. Explicit Cursors :\\nExplicit Cursors are Created by Users whenever the user requires them. Explicit Cursors are used for Fetching data from Table in Row-By-Row Manner\\nEXECUTE ():- The Execute method executes a specified query, SQL statement, stored procedure, or provider-specific text. The results are stored in a new Recordset object if it is a row-returning query. A closed Recordset object will be returned if it is not a row-returning query.')\n",
    "print(\"python code to connect MySQL TO python :-\")\n",
    "import mysql.connector\n",
    "\n",
    "mydb = mysql.connector.connect(\n",
    "  host=\"localhost\",\n",
    "  user=\"demodb\",\n",
    "  password=\"password123\"\n",
    ")\n",
    "print(mydb)\n",
    "mycursor = mydb.cursor()\n",
    "mycursor.execute(\"SHOW DATABASES\")\n",
    "for x in mycursor:\n",
    "  print(x)"
   ]
  },
  {
   "cell_type": "code",
   "execution_count": 8,
   "metadata": {},
   "outputs": [
    {
     "name": "stdout",
     "output_type": "stream",
     "text": [
      "Q_7_ANS :- Order of Execution :- SQL queries adhere to a specific order when evaluating clauses, similar to how mathematical operations adhere to PEMDAS or BIDMAS.\n",
      "From the eyes of the user, queries begin from the first clause and end at the last clause. However, queries aren’t actually read from top to bottom when carried out.\n",
      "The order in which the clauses in queries are executed is as follows:\n",
      "1. FROM/JOIN: The FROM and/or JOIN clauses are executed first to determine the data of interest.\n",
      "2. WHERE: The WHERE clause is executed to filter out records that do not meet the constraints.\n",
      "3. GROUP BY: The GROUP BY clause is executed to group the data based on the values in one or more columns.\n",
      "4. HAVING: The HAVING clause is executed to remove the created grouped records that don’t meet the constraints.\n",
      "5. SELECT: The SELECT clause is executed to derive all desired columns and expressions.\n",
      "6. ORDER BY: The ORDER BY clause is executed to sort the derived values in ascending or descending order.\n",
      "7. LIMIT/OFFSET: Finally, the LIMIT and/or OFFSET clauses are executed to keep or skip a specified number of rows. \n"
     ]
    }
   ],
   "source": [
    "print('Q_7_ANS :- Order of Execution :- SQL queries adhere to a specific order when evaluating clauses, similar to how mathematical operations adhere to PEMDAS or BIDMAS.\\nFrom the eyes of the user, queries begin from the first clause and end at the last clause. However, queries aren’t actually read from top to bottom when carried out.\\nThe order in which the clauses in queries are executed is as follows:\\n1. FROM/JOIN: The FROM and/or JOIN clauses are executed first to determine the data of interest.\\n2. WHERE: The WHERE clause is executed to filter out records that do not meet the constraints.\\n3. GROUP BY: The GROUP BY clause is executed to group the data based on the values in one or more columns.\\n4. HAVING: The HAVING clause is executed to remove the created grouped records that don’t meet the constraints.\\n5. SELECT: The SELECT clause is executed to derive all desired columns and expressions.\\n6. ORDER BY: The ORDER BY clause is executed to sort the derived values in ascending or descending order.\\n7. LIMIT/OFFSET: Finally, the LIMIT and/or OFFSET clauses are executed to keep or skip a specified number of rows. ')"
   ]
  },
  {
   "cell_type": "code",
   "execution_count": null,
   "metadata": {},
   "outputs": [],
   "source": []
  }
 ],
 "metadata": {
  "kernelspec": {
   "display_name": "Python 3",
   "language": "python",
   "name": "python3"
  },
  "language_info": {
   "codemirror_mode": {
    "name": "ipython",
    "version": 3
   },
   "file_extension": ".py",
   "mimetype": "text/x-python",
   "name": "python",
   "nbconvert_exporter": "python",
   "pygments_lexer": "ipython3",
   "version": "3.10.0"
  },
  "orig_nbformat": 4
 },
 "nbformat": 4,
 "nbformat_minor": 2
}
